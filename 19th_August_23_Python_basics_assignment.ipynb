{
 "cells": [
  {
   "cell_type": "markdown",
   "id": "6cd92c97",
   "metadata": {},
   "source": [
    "<b> Question 1: Declare two variables, `x` and `y`, and assign them integer values. Swap the\n",
    "values of these variables without using any temporary variable. </b>"
   ]
  },
  {
   "cell_type": "code",
   "execution_count": 5,
   "id": "6466afd6",
   "metadata": {},
   "outputs": [
    {
     "name": "stdout",
     "output_type": "stream",
     "text": [
      "Value of x: 10\n",
      "Value of y: 20\n",
      "Value of x after swapping: 20\n",
      "Value of y after swapping: 10\n"
     ]
    }
   ],
   "source": [
    "x=10\n",
    "y=20\n",
    "print(\"Value of x:\",x)\n",
    "print(\"Value of y:\",y)\n",
    "y,x=x,y\n",
    "print(\"Value of x after swapping:\", x)\n",
    "print(\"Value of y after swapping:\", y)"
   ]
  },
  {
   "cell_type": "markdown",
   "id": "ce6bf527",
   "metadata": {},
   "source": [
    "<b> Question 2: Create a program that calculates the area of a rectangle. Take the length and\n",
    "width as inputs from the user and store them in variables. Calculate and\n",
    "display the area. </b>"
   ]
  },
  {
   "cell_type": "code",
   "execution_count": 6,
   "id": "7f25e5f2",
   "metadata": {},
   "outputs": [
    {
     "name": "stdout",
     "output_type": "stream",
     "text": [
      "Enter the length of the rectangle:20\n",
      "Enter the breadth of the rectangle:30\n",
      "Area of rectangle:  600.0\n"
     ]
    }
   ],
   "source": [
    "length=float(input(\"Enter the length of the rectangle:\"))\n",
    "breadth=float(input(\"Enter the breadth of the rectangle:\"))\n",
    "area_of_rectangle= length*breadth\n",
    "print(\"Area of rectangle: \", area_of_rectangle)"
   ]
  },
  {
   "cell_type": "markdown",
   "id": "ba6e0e44",
   "metadata": {},
   "source": [
    "<b> Question 3: Write a Python program that converts temperatures from Celsius to\n",
    "Fahrenheit. Take the temperature in Celsius as input, store it in a variable,\n",
    "convert it to Fahrenheit, and display the result. </b>"
   ]
  },
  {
   "cell_type": "code",
   "execution_count": 7,
   "id": "98fa57d9",
   "metadata": {},
   "outputs": [
    {
     "name": "stdout",
     "output_type": "stream",
     "text": [
      "Enter the temperation in celsius:37.5\n",
      "Temperature in fahrenheit:  99.5\n"
     ]
    }
   ],
   "source": [
    "celsius=float(input(\"Enter the temperation in celsius:\"))\n",
    "fahrenheit= celsius * 1.8 + 32\n",
    "print(\"Temperature in fahrenheit: \", fahrenheit)"
   ]
  },
  {
   "cell_type": "markdown",
   "id": "1db55546",
   "metadata": {},
   "source": [
    "<b> Question 4: Write a Python program that takes a string as input and prints the length of\n",
    "the string. </b>"
   ]
  },
  {
   "cell_type": "code",
   "execution_count": 9,
   "id": "b3db2b2a",
   "metadata": {},
   "outputs": [
    {
     "name": "stdout",
     "output_type": "stream",
     "text": [
      "Length of the string is: 28\n"
     ]
    }
   ],
   "source": [
    "my_string=\"Leo Messi won the World Cup.\"\n",
    "print(\"Length of the string is:\", len(my_string))"
   ]
  },
  {
   "cell_type": "markdown",
   "id": "f185b528",
   "metadata": {},
   "source": [
    "<b> Question 5: Create a program that takes a sentence from the user and counts the number\n",
    "of vowels (a, e, i, o, u) in the string. </b>"
   ]
  },
  {
   "cell_type": "code",
   "execution_count": 13,
   "id": "c421651c",
   "metadata": {},
   "outputs": [
    {
     "name": "stdout",
     "output_type": "stream",
     "text": [
      "Enter a sentence:aaaeeeeiiwwwwoo\n",
      "Num of vowels in the sentence: 11\n"
     ]
    }
   ],
   "source": [
    "my_string= input(\"Enter a sentence:\").lower()\n",
    "num_vowels=0\n",
    "for char in my_string:\n",
    "    if char in \"aeiou\":\n",
    "        num_vowels+=1\n",
    "print(\"Num of vowels in the sentence:\", num_vowels)"
   ]
  },
  {
   "cell_type": "markdown",
   "id": "b9707f80",
   "metadata": {},
   "source": [
    "<b> Question 6: Given a string, reverse the order of characters using string slicing and print\n",
    "the reversed string. </b>"
   ]
  },
  {
   "cell_type": "code",
   "execution_count": 15,
   "id": "af588869",
   "metadata": {},
   "outputs": [
    {
     "name": "stdout",
     "output_type": "stream",
     "text": [
      "Reversed string: .slliks WP morf ecneicS ataD gninrael ma I\n"
     ]
    }
   ],
   "source": [
    "my_string=\"I am learning Data Science from PW skills.\"\n",
    "print(\"Reversed string:\", my_string[::-1])"
   ]
  },
  {
   "cell_type": "markdown",
   "id": "d82e0f13",
   "metadata": {},
   "source": [
    "<b> Question 7: Write a program that takes a string as input and checks if it is a palindrome\n",
    "(reads the same forwards and backwards). </b>"
   ]
  },
  {
   "cell_type": "code",
   "execution_count": 18,
   "id": "668dd4a1",
   "metadata": {},
   "outputs": [
    {
     "name": "stdout",
     "output_type": "stream",
     "text": [
      "Enter the string for palindrome checkNeen\n",
      "It is a palindrome.\n"
     ]
    }
   ],
   "source": [
    "my_string=input(\"Enter the string for palindrome check\").lower()\n",
    "if my_string[::-1]==my_string:\n",
    "    print(\"It is a palindrome.\")\n",
    "else:\n",
    "    print(\"Not a palindrome.\")"
   ]
  },
  {
   "cell_type": "markdown",
   "id": "185fdf50",
   "metadata": {},
   "source": [
    "<b> Question 8: Create a program that takes a string as input and removes all the spaces from\n",
    "it. Print the modified string without spaces."
   ]
  },
  {
   "cell_type": "code",
   "execution_count": 19,
   "id": "3240a992",
   "metadata": {},
   "outputs": [
    {
     "name": "stdout",
     "output_type": "stream",
     "text": [
      "Enter a string:Messi is the best player in the world.\n",
      "Messiisthebestplayerintheworld.\n"
     ]
    }
   ],
   "source": [
    "my_string=input(\"Enter a string:\")\n",
    "print(my_string.replace(\" \",\"\"))"
   ]
  },
  {
   "cell_type": "code",
   "execution_count": null,
   "id": "9cb34c21",
   "metadata": {},
   "outputs": [],
   "source": []
  }
 ],
 "metadata": {
  "kernelspec": {
   "display_name": "Python 3 (ipykernel)",
   "language": "python",
   "name": "python3"
  },
  "language_info": {
   "codemirror_mode": {
    "name": "ipython",
    "version": 3
   },
   "file_extension": ".py",
   "mimetype": "text/x-python",
   "name": "python",
   "nbconvert_exporter": "python",
   "pygments_lexer": "ipython3",
   "version": "3.9.13"
  }
 },
 "nbformat": 4,
 "nbformat_minor": 5
}
